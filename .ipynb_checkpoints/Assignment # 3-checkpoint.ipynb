{
 "cells": [
  {
   "cell_type": "code",
   "execution_count": 13,
   "metadata": {},
   "outputs": [
    {
     "name": "stdout",
     "output_type": "stream",
     "text": [
      "Enter 1st number5\n",
      "Enter 2nd number7\n",
      "Enter your operator+\n",
      "5+7=12\n"
     ]
    }
   ],
   "source": [
    "#1.Make a calculator using Python with addition , subtraction , multiplication ,division and power.\n",
    "user_input1=int(input('Enter 1st number'))\n",
    "user_input2=int(input('Enter 2nd number'))\n",
    "operator=input('Enter your operator')\n",
    "if operator=='+':\n",
    "    print(str(user_input1)+\"+\"+str(user_input2)+\"=\"+str(user_input1+user_input2))\n",
    "elif operator=='-':\n",
    "    print(str(user_input1)+\"-\"+str(user_input2)+\"=\"+str(user_input1-user_input2))\n",
    "elif operator=='*':\n",
    "    print(str(user_input1)+\"*\"+str(user_input2)+\"=\"+str(user_input1*user_input2))\n",
    "elif operator=='/':\n",
    "    print(str(user_input1)+\"/\"+str(user_input2)+\"=\"+str(user_input1/user_input2))\n",
    "elif operator=='**':\n",
    "    print(str(user_input1)+\"^2 =\"+str(user_input1*user_input1))\n",
    "else:\n",
    "    print(\"Invalid operator\")\n"
   ]
  },
  {
   "cell_type": "code",
   "execution_count": 43,
   "metadata": {},
   "outputs": [
    {
     "name": "stdout",
     "output_type": "stream",
     "text": [
      "2\n",
      "3\n",
      "1\n",
      "4\n",
      "5\n",
      "6\n",
      "7\n"
     ]
    }
   ],
   "source": [
    "#2.Write a program to check if there is any numeric value in list using for loop\n",
    "list=[2,3,1,4,5,6,'W',7,'D']\n",
    "for value in list:\n",
    "    if type(value) == int or type(value) == float:\n",
    "        print(value)"
   ]
  },
  {
   "cell_type": "code",
   "execution_count": 20,
   "metadata": {},
   "outputs": [
    {
     "name": "stdout",
     "output_type": "stream",
     "text": [
      "{0: 'huma', 7: 'sana', 4: 'saba', 8: 'laila', 1: 'asiyah', 2: 'resham'}\n"
     ]
    }
   ],
   "source": [
    "#3. Write a python script to add a key to a dictionary\n",
    "dic={0:'huma',7:'sana',4:'saba',8:'laila',1:'asiyah'}\n",
    "dic.update({2:'resham'})\n",
    "print(dic)"
   ]
  },
  {
   "cell_type": "code",
   "execution_count": 28,
   "metadata": {},
   "outputs": [
    {
     "name": "stdout",
     "output_type": "stream",
     "text": [
      "23\n"
     ]
    }
   ],
   "source": [
    "#4.Write a python program to add all the numeric value in dictionary.\n",
    "dic={'A':2,'E':5,'I':9,'O':4,'U':3}\n",
    "print(sum(dic.values()))"
   ]
  },
  {
   "cell_type": "code",
   "execution_count": 39,
   "metadata": {},
   "outputs": [
    {
     "name": "stdout",
     "output_type": "stream",
     "text": [
      "[20, 30, -20, 60]\n"
     ]
    }
   ],
   "source": [
    "#5. Write a program to identify duplicate values from list.\n",
    "list1 = [10, 20, 30, 20, 20, 30, 40,  \n",
    "         50, -20, 60, 60, -20, -20] \n",
    "_size = len(list1) \n",
    "repeated = [] \n",
    "for i in range(_size):\n",
    "    k = i + 1\n",
    "    for j in range(k, _size):\n",
    "        if list1[i] == list1[j] and list1[i] not in repeated:\n",
    "            repeated.append(list1[i]) \n",
    "print (Repeat(list1)) "
   ]
  },
  {
   "cell_type": "code",
   "execution_count": 34,
   "metadata": {},
   "outputs": [
    {
     "name": "stdout",
     "output_type": "stream",
     "text": [
      "Enter integer Key7\n",
      "Key is not present in the dictionary\n"
     ]
    }
   ],
   "source": [
    "#6. Write a python script to check if a given key already exists in a dictionary.\n",
    "x=int(input('Enter integer Key'))\n",
    "d = {1: 10, 2: 20, 3: 30, 4: 40, 5: 50, 6: 60}\n",
    "if x in d:\n",
    "    print('Key is present in the dictionary')\n",
    "else:\n",
    "    print('Key is not present in the dictionary')\n"
   ]
  },
  {
   "cell_type": "code",
   "execution_count": null,
   "metadata": {},
   "outputs": [],
   "source": []
  }
 ],
 "metadata": {
  "kernelspec": {
   "display_name": "Python 3",
   "language": "python",
   "name": "python3"
  },
  "language_info": {
   "codemirror_mode": {
    "name": "ipython",
    "version": 3
   },
   "file_extension": ".py",
   "mimetype": "text/x-python",
   "name": "python",
   "nbconvert_exporter": "python",
   "pygments_lexer": "ipython3",
   "version": "3.7.1"
  }
 },
 "nbformat": 4,
 "nbformat_minor": 2
}
