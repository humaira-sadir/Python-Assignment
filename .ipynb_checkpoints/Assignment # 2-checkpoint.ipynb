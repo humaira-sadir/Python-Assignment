{
 "cells": [
  {
   "cell_type": "code",
   "execution_count": 39,
   "metadata": {},
   "outputs": [
    {
     "name": "stdout",
     "output_type": "stream",
     "text": [
      "Enter your 1 subject marks: 48\n",
      "Enter your 2 subject marks: 98\n",
      "Enter your 3 subject marks: 47.8\n",
      "Enter your 4 subject marks: 34\n",
      "Enter your 5 subject marks: 98\n",
      "Total Marks:325.8\n",
      "Percentage is: 65.16000000000001%\n",
      "You Got C\n"
     ]
    }
   ],
   "source": [
    "#1. Write a program which takes 5 inputs from user for different subject’s\n",
    "#marks, total it and generate mark sheet using grades ?\n",
    "total=0\n",
    "for x in range(5):\n",
    "    user_input=float(input(\"Enter your \"+str(x+1)+\" subject marks: \"))\n",
    "    total+=user_input\n",
    "print(\"Total Marks:\"+str(total))\n",
    "percentage=total/500*100\n",
    "print(\"Percentage is: \"+str(percentage)+\"%\")\n",
    "if(percentage<=100.0 )and(percentage>=90.0):\n",
    "    print(\"You Got A+\\nCongragulations!\")\n",
    "elif(percentage<90.0)and (percentage>=80.0):\n",
    "    print(\"You Got A\\nCongragulations\")\n",
    "elif(percentage<80.0)and (percentage>=70.0):\n",
    "    print(\"You Got B\")\n",
    "elif(percentage<70.0)and (percentage>=60.0):\n",
    "    print(\"You Got C\")\n",
    "elif(percentage<60.0)and (percentage>=50.0):\n",
    "    print(\"You Got D\")\n",
    "else:\n",
    "    print(\"You are fail\")  "
   ]
  },
  {
   "cell_type": "code",
   "execution_count": 44,
   "metadata": {},
   "outputs": [
    {
     "name": "stdout",
     "output_type": "stream",
     "text": [
      "Enter any number3\n",
      "3 is odd number\n"
     ]
    }
   ],
   "source": [
    "#2. Write a program which take input from user and \n",
    "#identify that the given number is even or odd?\n",
    "user_input=int(input(\"Enter any number\"))\n",
    "if user_input%2==0:\n",
    "    print(str(user_input)+\" is even number\")\n",
    "elif user_input%2!=0:\n",
    "    print(str(user_input)+\" is odd number\")  "
   ]
  },
  {
   "cell_type": "code",
   "execution_count": 47,
   "metadata": {},
   "outputs": [
    {
     "name": "stdout",
     "output_type": "stream",
     "text": [
      "5\n"
     ]
    }
   ],
   "source": [
    "#3. Write a program which print the length of the list?\n",
    "colors=[\"Blue\",\"Green\",\"Red\",\"Orange\",\"Yellow\"]\n",
    "print(len(colors))"
   ]
  },
  {
   "cell_type": "code",
   "execution_count": 52,
   "metadata": {},
   "outputs": [
    {
     "name": "stdout",
     "output_type": "stream",
     "text": [
      "List item1 is 2\n",
      "List item2 is 5\n",
      "List item3 is 7\n",
      "List item4 is 9\n",
      "List item5 is 4\n",
      "27\n"
     ]
    }
   ],
   "source": [
    "#4.Write a Python program to sum all the numeric items in a list?\n",
    "Add=0\n",
    "item=[2,5,7,9,4]\n",
    "for i in range(len(item)):\n",
    "    print(\"List item\"+str(i+1)+\" is \"+str(item[i]))\n",
    "    Add+=item[i]\n",
    "print(Add)\n",
    "    "
   ]
  },
  {
   "cell_type": "code",
   "execution_count": 53,
   "metadata": {},
   "outputs": [
    {
     "name": "stdout",
     "output_type": "stream",
     "text": [
      "9\n"
     ]
    }
   ],
   "source": [
    "#5.Write a Python program to get the largest number from a numeric list.\n",
    "item=[2,5,7,9,4]\n",
    "print(max(item))\n"
   ]
  },
  {
   "cell_type": "code",
   "execution_count": 54,
   "metadata": {},
   "outputs": [
    {
     "name": "stdout",
     "output_type": "stream",
     "text": [
      "1\n",
      "1\n",
      "2\n",
      "3\n"
     ]
    }
   ],
   "source": [
    "#6.Take a list, say for example this one:\n",
    "#a = [1, 1, 2, 3, 5, 8, 13, 21, 34, 55, 89]\n",
    "#and write a program that prints out all the elements of the list that are\n",
    "#less than 5.\n",
    "a = [1, 1, 2, 3, 5, 8, 13, 21, 34, 55, 89]\n",
    "for i in range(len(a)):\n",
    "    if a[i]<5:\n",
    "        print(str(a[i]))\n",
    "    else:\n",
    "        continue"
   ]
  },
  {
   "cell_type": "code",
   "execution_count": null,
   "metadata": {},
   "outputs": [],
   "source": []
  }
 ],
 "metadata": {
  "kernelspec": {
   "display_name": "Python 3",
   "language": "python",
   "name": "python3"
  },
  "language_info": {
   "codemirror_mode": {
    "name": "ipython",
    "version": 3
   },
   "file_extension": ".py",
   "mimetype": "text/x-python",
   "name": "python",
   "nbconvert_exporter": "python",
   "pygments_lexer": "ipython3",
   "version": "3.7.1"
  }
 },
 "nbformat": 4,
 "nbformat_minor": 2
}
