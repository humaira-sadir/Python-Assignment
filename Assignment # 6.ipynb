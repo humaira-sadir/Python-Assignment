{
 "cells": [
  {
   "cell_type": "code",
   "execution_count": 1,
   "metadata": {},
   "outputs": [
    {
     "name": "stdout",
     "output_type": "stream",
     "text": [
      "OOP Languauge is a paradigm with consist of classes,methods,functions and instences etc\n"
     ]
    }
   ],
   "source": [
    "#Q.1:Define Object Oriented Programming Language?\n",
    "print(\"OOP Languauge is a paradigm with consist of classes,methods,functions and instences etc\")"
   ]
  },
  {
   "cell_type": "code",
   "execution_count": 4,
   "metadata": {},
   "outputs": [
    {
     "name": "stdout",
     "output_type": "stream",
     "text": [
      "1.Reduce the LOC (lines of code)\n",
      "2.Reduce Complexity\n",
      "3.Easy to Debuge\n",
      "4.Easy to collaborate software projects\n",
      "5.Increase reusability of functions\n"
     ]
    }
   ],
   "source": [
    "#Q.2:List down the Benefits of OOP?\n",
    "print(\"1.Reduce the LOC (lines of code)\\n2.Reduce Complexity\\n3.Easy to Debuge\\n4.Easy to collaborate software projects\\n5.Increase reusability of functions\")\n"
   ]
  },
  {
   "cell_type": "code",
   "execution_count": 6,
   "metadata": {},
   "outputs": [
    {
     "name": "stdout",
     "output_type": "stream",
     "text": [
      "1.Function is define without the class and they are independent on the class\n",
      "It may return any data.\n",
      "2.Method is defined within a class and hence they are dependent on that class.\n",
      "It may or may not return any data.\n"
     ]
    }
   ],
   "source": [
    "#Q.3:Differentiate between function and method?\n",
    "print(\"1.Function is define without the class and they are independent on the class\\nIt may return any data.\\n2.Method is defined within a class and hence they are dependent on that class.\\nIt may or may not return any data.\")"
   ]
  },
  {
   "cell_type": "code",
   "execution_count": 14,
   "metadata": {},
   "outputs": [
    {
     "name": "stdout",
     "output_type": "stream",
     "text": [
      "1.A class is a blueprint that define the variables and the methods common to all objects of a certain functions \n",
      "2.Object is an abstract data type created by a developer.It can include multiple properties & methods\n",
      "3.An attribute is a specification that defines a property of an object, element, or file \n",
      "4.Behavior is an approach & technique for software development,Which enables incremental development in a natural way. \n"
     ]
    }
   ],
   "source": [
    "#Q.4 Define the following terms:\n",
    "#1. Class\n",
    "#2. Object\n",
    "#3. Attribute\n",
    "#4. Behavior\n",
    "print(\"1.A class is a blueprint that define the variables and the methods common to all objects of a certain functions \")\n",
    "print(\"2.Object is an abstract data type created by a developer.It can include multiple properties & methods\")\n",
    "print(\"3.An attribute is a specification that defines a property of an object, element, or file \")\n",
    "print(\"4.Behavior is an approach & technique for software development,Which enables incremental development in a natural way. \")"
   ]
  },
  {
   "cell_type": "code",
   "execution_count": 21,
   "metadata": {},
   "outputs": [
    {
     "name": "stdout",
     "output_type": "stream",
     "text": [
      "2017\n",
      "2016\n",
      "2015\n",
      "2014\n",
      "2013\n"
     ]
    }
   ],
   "source": [
    "#Q.5 Write a code in python in which create a class named it Car which have 5 attributes such like (model, color and name etc.) and 3 methods. And create 5 object instance from that class.\n",
    "class Car():\n",
    "    def __init__(self,model,color,name,engine):\n",
    "        self.model=model\n",
    "        self.color=color\n",
    "        self.name=name\n",
    "        self.engine=engine\n",
    "        self.company=\"Honda\" \n",
    "        def method_1(self):\n",
    "            self.company=\"Suzuki\"\n",
    "        def method_1(self):\n",
    "            self.company=\"Mehran\"\n",
    "        def method_1(self):\n",
    "            self.company=\"Corola\"\n",
    "car1=Car(2017,\"black\",\"Civic 2017 Orial\",\"1800cc\")  \n",
    "car2=Car(2016,\"blue\",\"Civic 2016 Orial\",\"1700cc\")\n",
    "car3=Car(2015,\"white\",\"Civic 2015 Orial\",\"1600cc\")\n",
    "car4=Car(2014,\"red\",\"Civic 2014 Orial\",\"1300cc\")\n",
    "car5=Car(2013,\"yellow\",\"Civic 2013 Orial\",\"1200cc\")\n",
    "print(car1.model)\n",
    "print(car2.model)\n",
    "print(car3.model)\n",
    "print(car4.model)\n",
    "print(car5.model)\n",
    "\n",
    "        \n",
    "        \n",
    "    "
   ]
  },
  {
   "cell_type": "code",
   "execution_count": null,
   "metadata": {},
   "outputs": [],
   "source": []
  }
 ],
 "metadata": {
  "kernelspec": {
   "display_name": "Python 3",
   "language": "python",
   "name": "python3"
  },
  "language_info": {
   "codemirror_mode": {
    "name": "ipython",
    "version": 3
   },
   "file_extension": ".py",
   "mimetype": "text/x-python",
   "name": "python",
   "nbconvert_exporter": "python",
   "pygments_lexer": "ipython3",
   "version": "3.7.1"
  }
 },
 "nbformat": 4,
 "nbformat_minor": 2
}
