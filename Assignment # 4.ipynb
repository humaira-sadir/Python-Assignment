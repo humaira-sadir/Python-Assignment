{
 "cells": [
  {
   "cell_type": "code",
   "execution_count": 3,
   "metadata": {},
   "outputs": [
    {
     "name": "stdout",
     "output_type": "stream",
     "text": [
      "{'first name': 'Humaira', 'last name': 'Sadir', 'age': 20, 'city': 'Karachi'}\n",
      "{'first name': 'Humaira', 'last name': 'Sadir', 'age': 20, 'city': 'Karachi', 'qualification': 'To be updated'}\n",
      "{'first name': 'Humaira', 'last name': 'Sadir', 'age': 20, 'city': 'Karachi', 'qualification': 'high academic level'}\n",
      "{'first name': 'Humaira', 'last name': 'Sadir', 'age': 20, 'city': 'Karachi'}\n"
     ]
    }
   ],
   "source": [
    "#1.Use a dictionary to store information about a person you know. Store their first name, last name, age, and the city in which they live. \n",
    "#You should have keys such as first_name, last_name, age, and city. Print each piece of information stored in your dictionary. \n",
    "#Add a new key value pair about qualification then update the qualification value to high academic level then delete it\n",
    "information = { \n",
    "    \"first name\": \"Humaira\",\n",
    "    \"last name\" : \"Sadir\",\n",
    "    \"age\"           : 20,\n",
    "    \"city\"          : \"Karachi\"\n",
    "}\n",
    "\n",
    "print(information)\n",
    "\n",
    "information[\"qualification\"] = \"To be updated\"\n",
    "print(information)\n",
    "\n",
    "information[\"qualification\"]= \"high academic level\"\n",
    "print(information)\n",
    "\n",
    "del information[\"qualification\"]\n",
    "print(information)\n"
   ]
  },
  {
   "cell_type": "code",
   "execution_count": 4,
   "metadata": {},
   "outputs": [
    {
     "name": "stdout",
     "output_type": "stream",
     "text": [
      "{'country': 'Pakistan', 'population': 12000, 'fact': 'There are so many education sectors !'}\n",
      "{'country': 'France', 'population': 199000, 'fact': \"It's a beautiful place !\"}\n",
      "{'country': 'India', 'population': 145000, 'fact': 'It is technology hub !'}\n"
     ]
    }
   ],
   "source": [
    "#2.Make a dictionary called cities. Use the names of three cities as keys in your dictionary. \n",
    "#Create a dictionary of information about each city and include the country that the city is in, its approximate population, and one fact about that city. \n",
    "#The keys for each city’s dictionary should be something like country, population, and fact. Print the name of each city and all of the information you have stored about it.\n",
    "cities = {\"Hyderabad\" : {\"country\"      : \"Pakistan\" ,\"population\" : 12000,\"fact\" : \"There are so many education sectors !\"},\n",
    "          \"Paris\"   : {\"country\"      : \"France\" ,\"population\" : 199000,\"fact\"  : \"It's a beautiful place !\"},\n",
    "          \"Banglore\"    : {\"country\"      : \"India\" ,\"population\" : 145000,\"fact\"  : \"It is technology hub !\"}\n",
    "         }\n",
    "\n",
    "print(cities[\"Hyderabad\"])\n",
    "print(cities[\"Paris\"])\n",
    "print(cities[\"Banglore\"])"
   ]
  },
  {
   "cell_type": "code",
   "execution_count": null,
   "metadata": {},
   "outputs": [
    {
     "name": "stdout",
     "output_type": "stream",
     "text": [
      "\n",
      "Enter your age or 'q' to stop asking :20\n",
      "Your ticket is $15 !\n",
      "\n",
      "Enter your age or 'q' to stop asking :21\n",
      "Your ticket is $15 !\n",
      "\n",
      "Enter your age or 'q' to stop asking :20\n",
      "Your ticket is $15 !\n",
      "\n",
      "Enter your age or 'q' to stop asking :20\n",
      "Your ticket is $15 !\n",
      "\n",
      "Enter your age or 'q' to stop asking :20\n",
      "Your ticket is $15 !\n",
      "\n",
      "Enter your age or 'q' to stop asking :21\n",
      "Your ticket is $15 !\n",
      "\n",
      "Enter your age or 'q' to stop asking :21\n",
      "Your ticket is $15 !\n",
      "\n",
      "Enter your age or 'q' to stop asking :21\n",
      "Your ticket is $15 !\n",
      "\n",
      "Enter your age or 'q' to stop asking :21\n",
      "Your ticket is $15 !\n"
     ]
    }
   ],
   "source": [
    "#3.A movie theater charges different ticket prices depending on a person’s age. If a person is under the age of 3, the ticket is free; if they are between 3 and 12, the ticket is 10 dollars; and if they are over age 12, the ticket is 15 dollars. \n",
    "#Write a loop in which you ask users their age, and then tell them the cost of their movie ticket\n",
    "flag = True\n",
    "while flag:\n",
    "    age = input(\"\\nEnter your age or 'q' to stop asking :\")\n",
    "    if age.lower() == 'q':\n",
    "        flag = False\n",
    "    else:\n",
    "        int_age = int(age)\n",
    "        if int_age < 3:\n",
    "            print(\"Your ticket is free !\")\n",
    "        elif int_age >=3 and int_age <=12:\n",
    "            print(\"Your ticket is $10 !\")\n",
    "        elif int_age > 12:\n",
    "            print(\"Your ticket is $15 !\")"
   ]
  },
  {
   "cell_type": "code",
   "execution_count": 2,
   "metadata": {},
   "outputs": [
    {
     "name": "stdout",
     "output_type": "stream",
     "text": [
      "One of my favorite books is 'Alice in Wonderland'.\n",
      "One of my favorite books is 'You can win '.\n"
     ]
    }
   ],
   "source": [
    "#4.Write a function called favorite_book() that accepts one parameter, title. \n",
    "#The function should print a message, such as One of my favorite books is Alice in Wonderland. \n",
    "#Call the function, making sure to include a book title as an argument in the function call.\n",
    "def favorite_book(title):\n",
    "    print(f\"One of my favorite books is '{title}'.\")\n",
    "    \n",
    "favorite_book(\"Alice in Wonderland\")\n",
    "favorite_book(\"You can win \")\n"
   ]
  },
  {
   "cell_type": "code",
   "execution_count": 3,
   "metadata": {},
   "outputs": [
    {
     "name": "stdout",
     "output_type": "stream",
     "text": [
      "\n",
      "\tYou have 3 chances to guess the hidden number (from 1 to 30): 3\n",
      "\tYour guess is less than the hidden number !\n",
      "\n",
      "\tYou have 2 chances to guess the hidden number (from 1 to 30): 2\n",
      "\tYour guess is less than the hidden number !\n",
      "\n",
      "\tYou have 1 chances to guess the hidden number (from 1 to 30): 6\n",
      "\tYour guess is less than the hidden number !\n",
      "\n",
      "\tYou Lost ! :(  Hidden Number was 9\n"
     ]
    }
   ],
   "source": [
    "#5.Guess the number game Write a program which randomly generate a number between 1 to 30 and ask the user in input field to guess the correct number. \n",
    "#Give three chances to user guess the number and also give hint to user if hidden number is greater or smaller than the number he given to input field\n",
    "import random as rd\n",
    "i = 3\n",
    "while i > 0:\n",
    "    correct_num = rd.randint(1,30)\n",
    "    user_num = int(input(f\"\\n\\tYou have {i} chances to guess the hidden number (from 1 to 30): \"))\n",
    "    \n",
    "    if user_num == correct_num:\n",
    "        print(\"\\t***Congrats ! Correct Guess, You Won*** :)\")\n",
    "        break\n",
    "    elif user_num > correct_num:\n",
    "        print(\"\\tYour guess is greater than the hidden number !\")\n",
    "        i -= 1\n",
    "    elif user_num < correct_num:\n",
    "        print(\"\\tYour guess is less than the hidden number !\")\n",
    "        i-=1\n",
    "    elif user_num < 1 or user_num > 30:\n",
    "        print(\"\\tPlease enter number in range 1 to 30 !\")\n",
    "        \n",
    "if i == 0:\n",
    "    print(f\"\\n\\tYou Lost ! :(  Hidden Number was {correct_num}\")"
   ]
  },
  {
   "cell_type": "code",
   "execution_count": null,
   "metadata": {},
   "outputs": [],
   "source": []
  }
 ],
 "metadata": {
  "kernelspec": {
   "display_name": "Python 3",
   "language": "python",
   "name": "python3"
  },
  "language_info": {
   "codemirror_mode": {
    "name": "ipython",
    "version": 3
   },
   "file_extension": ".py",
   "mimetype": "text/x-python",
   "name": "python",
   "nbconvert_exporter": "python",
   "pygments_lexer": "ipython3",
   "version": "3.7.1"
  }
 },
 "nbformat": 4,
 "nbformat_minor": 2
}
